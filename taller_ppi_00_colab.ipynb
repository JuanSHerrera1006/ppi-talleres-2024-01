{
  "nbformat": 4,
  "nbformat_minor": 0,
  "metadata": {
    "colab": {
      "provenance": [],
      "toc_visible": true,
      "authorship_tag": "ABX9TyPNdz9sYu4ckf8/YD0Iexf5",
      "include_colab_link": true
    },
    "kernelspec": {
      "name": "python3",
      "display_name": "Python 3"
    },
    "language_info": {
      "name": "python"
    }
  },
  "cells": [
    {
      "cell_type": "markdown",
      "metadata": {
        "id": "view-in-github",
        "colab_type": "text"
      },
      "source": [
        "<a href=\"https://colab.research.google.com/github/JuanSHerrera1006/ppi-talleres-2024-01/blob/main/taller_ppi_00_colab.ipynb\" target=\"_parent\"><img src=\"https://colab.research.google.com/assets/colab-badge.svg\" alt=\"Open In Colab\"/></a>"
      ]
    },
    {
      "cell_type": "markdown",
      "source": [
        "# Taller programación para ingeniería 00 - Colaboratory\n",
        "\n",
        "---\n"
      ],
      "metadata": {
        "id": "KW25NmCA9j65"
      }
    },
    {
      "cell_type": "markdown",
      "source": [
        "## Bloques de código\n",
        "\n",
        "> Ejemplo de código generado por [ChatGPT](https://chat.openai.com/):"
      ],
      "metadata": {
        "id": "mkKyNwmg__rr"
      }
    },
    {
      "cell_type": "code",
      "source": [
        "# Simple Python Greeting Program\n",
        "\n",
        "# Prompt the user for their name\n",
        "user_name = input(\"What's your name? \")\n",
        "\n",
        "# Greet the user\n",
        "print(f\"Hello, {user_name}! Welcome to the Python Greeting Program.\")"
      ],
      "metadata": {
        "colab": {
          "base_uri": "https://localhost:8080/"
        },
        "id": "TjDVgDfF9gv6",
        "outputId": "dd17b78d-00c6-4849-f761-deb92f5cdcf1"
      },
      "execution_count": 2,
      "outputs": [
        {
          "output_type": "stream",
          "name": "stdout",
          "text": [
            "What's your name? Juan Sebastian\n",
            "Hello, Juan Sebastian! Welcome to the Python Greeting Program.\n"
          ]
        }
      ]
    },
    {
      "cell_type": "markdown",
      "source": [
        "\n",
        "## Numeración básica\n",
        "\n",
        "> Lista numerada\n",
        "\n",
        "1.   Elemento de lista\n",
        "2.   Elemento de lista\n",
        "3.   Elemento de lista\n",
        "\n",
        "> Lista con viñetas\n",
        "\n",
        "*   Elemento de lista\n",
        "*   Elemento de lista\n",
        "*   Elemento de lista\n",
        "\n",
        "\n",
        "\n"
      ],
      "metadata": {
        "id": "lPvhjtkf-kuj"
      }
    },
    {
      "cell_type": "markdown",
      "source": [
        "## Otras funcionalidades\n",
        "\n",
        "> Formatos de código no ejecutables:\n",
        "\n",
        "```python\n",
        "def main():\n",
        "  print(\"Hello World!\")\n",
        "\n",
        "if __name__ == \"__main__\":\n",
        "  main()\n",
        "```\n",
        "\n",
        "> Fragmento de elementos [LaTeX](https://www.overleaf.com/)\n",
        "\n",
        "$$\n",
        "x = \\frac{-b \\pm \\sqrt{b^2 - 4ac}}{2a}\n",
        "$$\n",
        "\n"
      ],
      "metadata": {
        "id": "fSba-UgqAI66"
      }
    },
    {
      "cell_type": "markdown",
      "source": [
        "# Generación de código con ChatGPT\n",
        "\n",
        "Al realizar la siguiente consulta a ChatGPT: «Asume que eres un experto en programación. Escribe en diez lenguajes diferentes los códigos para mostrar por consola el texto “Hola, mundo”. Uno de los lenguajes debe ser Python. En todos los casos incluye comentarios que expliquen los códigos.» Se obtuvo el siguiente [mensaje](https://chat.openai.com/share/9e1c6ae7-3a48-4514-adaa-7e54acb66356)\n"
      ],
      "metadata": {
        "id": "cHY-OvRSFAv9"
      }
    }
  ]
}